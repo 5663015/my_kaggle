{
 "cells": [
  {
   "cell_type": "code",
   "execution_count": 1,
   "metadata": {
    "collapsed": true
   },
   "outputs": [],
   "source": [
    "# 滑动平均就是有的数据抖动太大，找不出来规律\n",
    "# 我们要推断出来趋势\n",
    "# 尤其是股票这种变化多端的"
   ]
  },
  {
   "cell_type": "code",
   "execution_count": 2,
   "metadata": {},
   "outputs": [],
   "source": [
    "# 在这用过往平均值来预测趋势，一般这种数据都是连续的\n",
    "# 就是前面的数据的平均值，来描述当前的值"
   ]
  },
  {
   "cell_type": "code",
   "execution_count": null,
   "metadata": {},
   "outputs": [],
   "source": [
    "# 滑动平均也叫做影子值\n",
    "# 影子值=衰减率乘以之前的影子值 + （1-衰减率）乘以当前的值\n",
    "# 衰减率有各种方法\n",
    "# 这个直接调库就行，tf里面有"
   ]
  }
 ],
 "metadata": {
  "kernelspec": {
   "display_name": "Python 2",
   "language": "python",
   "name": "python2"
  },
  "language_info": {
   "codemirror_mode": {
    "name": "ipython",
    "version": 2
   },
   "file_extension": ".py",
   "mimetype": "text/x-python",
   "name": "python",
   "nbconvert_exporter": "python",
   "pygments_lexer": "ipython2",
   "version": "2.7.6"
  }
 },
 "nbformat": 4,
 "nbformat_minor": 0
}
