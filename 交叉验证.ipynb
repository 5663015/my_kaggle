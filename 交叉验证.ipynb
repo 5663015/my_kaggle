{
 "cells": [
  {
   "cell_type": "code",
   "execution_count": 2,
   "metadata": {
    "collapsed": true
   },
   "outputs": [],
   "source": [
    "# 就是把给的训练数据集进行线下验证，分成训练和验证"
   ]
  },
  {
   "cell_type": "code",
   "execution_count": 3,
   "metadata": {},
   "outputs": [],
   "source": [
    "# 交叉验证就是按顺序每次取一部分作为验证集，最后测试结果取平均"
   ]
  },
  {
   "cell_type": "code",
   "execution_count": 4,
   "metadata": {},
   "outputs": [],
   "source": [
    "# 有的时候是按照顺序划分，有的时候是随机划分\n",
    "# shufflesplit就不是按照顺序划分\n",
    "# 比赛的时候就这两个都试一下，看哪个比较好\n",
    "# 数据集没信息的就随机划分"
   ]
  },
  {
   "cell_type": "code",
   "execution_count": 5,
   "metadata": {},
   "outputs": [],
   "source": [
    "# 分层就是根据数据的class来进行分层采样\n",
    "# 如果过采样就不需要分层了\n",
    "# 当然很少过采样，一般都是分层交叉验证"
   ]
  },
  {
   "cell_type": "code",
   "execution_count": null,
   "metadata": {},
   "outputs": [],
   "source": [
    "# 也有什么按照时间序列来分的，不能把第一天和第五天模型进行训练来预测第四天\n",
    "# 防止信息泄露"
   ]
  }
 ],
 "metadata": {
  "kernelspec": {
   "display_name": "Python 2",
   "language": "python",
   "name": "python2"
  },
  "language_info": {
   "codemirror_mode": {
    "name": "ipython",
    "version": 2
   },
   "file_extension": ".py",
   "mimetype": "text/x-python",
   "name": "python",
   "nbconvert_exporter": "python",
   "pygments_lexer": "ipython2",
   "version": "2.7.6"
  }
 },
 "nbformat": 4,
 "nbformat_minor": 0
}
