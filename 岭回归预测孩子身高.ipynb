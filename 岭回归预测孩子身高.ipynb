{
 "cells": [
  {
   "cell_type": "code",
   "execution_count": 3,
   "metadata": {
    "collapsed": true
   },
   "outputs": [],
   "source": [
    "import pandas as pd\n",
    "import numpy as np\n",
    "# from sklearn.model_selection import GridSearchCV\n",
    "# 用这个来网格状自动搜只能是分类才行\n",
    "from sklearn.linear_model import Ridge"
   ]
  },
  {
   "cell_type": "code",
   "execution_count": 4,
   "metadata": {},
   "outputs": [],
   "source": [
    "height = pd.read_csv('height_train.csv')\n",
    "test = pd.read_csv('height_test.csv')"
   ]
  },
  {
   "cell_type": "code",
   "execution_count": 5,
   "metadata": {},
   "outputs": [],
   "source": [
    "height['gender_father'] = height['father_height']*height['boy_dummy']\n",
    "height['gender_mother'] = height['mother_height']*height['boy_dummy']\n",
    "test['gender_father'] = test['father_height']*test['boy_dummy']\n",
    "test['gender_mother'] = test['mother_height']*test['boy_dummy']"
   ]
  },
  {
   "cell_type": "code",
   "execution_count": 7,
   "metadata": {},
   "outputs": [
    {
     "data": {
      "text/plain": [
       "Ridge(alpha=1.0, copy_X=True, fit_intercept=True, max_iter=None, normalize=True,\n      random_state=None, solver='auto', tol=0.001)"
      ]
     },
     "execution_count": 7,
     "metadata": {},
     "output_type": "execute_result"
    }
   ],
   "source": [
    "model = Ridge(normalize=True)\n",
    "# 开始了调参游戏\n",
    "X=height.loc[:,['father_height','mother_height','boy_dummy', 'gender_father','gender_mother']]\n",
    "y=height.child_height\n",
    "model.fit(X, y)"
   ]
  },
  {
   "cell_type": "code",
   "execution_count": 8,
   "metadata": {},
   "outputs": [],
   "source": [
    "test['prediction'] = model.predict(test.loc[:,['father_height','mother_height','boy_dummy', 'gender_father','gender_mother']])"
   ]
  },
  {
   "cell_type": "code",
   "execution_count": 9,
   "metadata": {},
   "outputs": [],
   "source": [
    "dataframe = pd.DataFrame({'id':test['id'],'prediction':test['prediction']})\n",
    "dataframe.to_csv(\"result.csv\",index=False,sep=',')\n",
    "# index表示是否显示行名，默认为true\n"
   ]
  },
  {
   "cell_type": "code",
   "execution_count": 8,
   "metadata": {},
   "outputs": [],
   "source": [
    ""
   ]
  },
  {
   "cell_type": "code",
   "execution_count": null,
   "metadata": {},
   "outputs": [],
   "source": []
  }
 ],
 "metadata": {
  "kernelspec": {
   "display_name": "Python 2",
   "language": "python",
   "name": "python2"
  },
  "language_info": {
   "codemirror_mode": {
    "name": "ipython",
    "version": 2
   },
   "file_extension": ".py",
   "mimetype": "text/x-python",
   "name": "python",
   "nbconvert_exporter": "python",
   "pygments_lexer": "ipython2",
   "version": "2.7.6"
  }
 },
 "nbformat": 4,
 "nbformat_minor": 0
}
