{
 "cells": [
  {
   "cell_type": "code",
   "execution_count": 1,
   "metadata": {
    "collapsed": true
   },
   "outputs": [],
   "source": [
    "# 首先是构建神经网络\n",
    "# 一层输入，一层隐含层，一层输出\n",
    "# 输入和输出我们都有，我们需要弄的就是隐含层\n",
    "# 先随便设个差不多的权重，然后计算出来损失函数"
   ]
  },
  {
   "cell_type": "code",
   "execution_count": 2,
   "metadata": {},
   "outputs": [],
   "source": [
    "# 接下来就计算损失函数对隐含层到输出的权重的偏导数\n",
    "# 看这几个权重对最终误差产生的影响"
   ]
  },
  {
   "cell_type": "code",
   "execution_count": 3,
   "metadata": {},
   "outputs": [],
   "source": [
    "# 然后用梯度下降不断优化参数，也就是原权重减去学习率乘以前面得到的偏导数"
   ]
  },
  {
   "cell_type": "code",
   "execution_count": 8,
   "metadata": {},
   "outputs": [
    {
     "name": "stdout",
     "output_type": "stream",
     "text": [
      "0.00504936047507472\n0.5707734205385597 0.9016781512110478\n"
     ]
    }
   ],
   "source": [
    "import numpy as np\n",
    "# 激活函数\n",
    "def sigmoid(inX):\n",
    "    return 1.0/(1+np.exp(-inX))\n",
    "x1 = 0.1\n",
    "x2 = 0.88\n",
    "# 两个输入两个输出\n",
    "y1 = 0.55\n",
    "y2 = 1\n",
    "w1,w2,w3,w4,w5,w6,w7,w8 =1.0,1.0,1.0,1.0,1.0,1.0,1.0,1.0\n",
    "# 前四个是输入到隐含，后面是隐含到输出\n",
    "for i in range(100):\n",
    "#     这个for循环就是学习轮数\n",
    "#-------------开始计算\n",
    "    h_in_1 = w1*x1+w2*x2\n",
    "    h_in_2 = w3*x1+w4*x2\n",
    "#h_in为传递到隐层的值\n",
    "    # print('h_in_1 = %f,h_in_2 = %f'%(h_in_1,h_in_2))\n",
    " \n",
    "    h_out_1 = sigmoid(h_in_1)\n",
    "    h_out_2 = sigmoid(h_in_2)\n",
    "#h_out从隐层传出的值\n",
    "    # print('h_out_1 = %f,h_out_2 = %f'%(h_out_1,h_out_2))\n",
    " \n",
    "    o_in_1 = w5*h_out_1+w6*h_out_2\n",
    "    o_in_2 = w7*h_out_1+w8*h_out_2\n",
    "#o_in为传入输出层的值\n",
    "    # print('o_in_1 = %f,o_in_2 = %f'%(o_in_1,o_in_2))\n",
    " \n",
    "    o_out_1 = sigmoid(o_in_1)\n",
    "    o_out_2 = sigmoid(o_in_2)\n",
    "    #y1,y2为输出的结果\n",
    "    # print('o_out_1 = %f,o_out_2 = %f'%(o_out_1,o_out_2))\n",
    " \n",
    "    lost1 = (y1-o_out_1)**2/2\n",
    "    # 这个就是差值的平方再除以2\n",
    "    lost2 = (y2-o_out_2)**2/2\n",
    "    lost = lost1+lost2\n",
    "    # print('lost = %f'%(lost))\n",
    " \n",
    "    diff_w5 = -(y1-o_out_1)*o_out_1*(1-o_out_1)*h_out_1\n",
    "    diff_w6 = -(y1-o_out_1)*o_out_1*(1-o_out_1)*h_out_2\n",
    "    diff_w7 = -(y2-o_out_2)*o_out_2*(1-o_out_2)*h_out_2\n",
    "    diff_w8 = -(y2-o_out_2)*o_out_2*(1-o_out_2)*h_out_1\n",
    "    # 这个求偏导的手动写一遍，损失函数对w5求偏导等于\n",
    "    # 损失函数对1输出求偏导乘以1输出对1输出的输入求偏导乘以1输出的输入对w5求偏导\n",
    "    # 然后再一步步拆开算就行了\n",
    "    diff_w1 = (-(y1-o_out_1)*o_out_1*(1-o_out_1)*w5-(y2-o_out_2)*o_out_2*(1-o_out_2)*w7)*(1-h_out_1)*h_out_1*x1\n",
    "    diff_w2 = (-(y1-o_out_1)*o_out_1*(1-o_out_1)*w5-(y2-o_out_2)*o_out_2*(1-o_out_2)*w7)*(1-h_out_1)*h_out_1*x2\n",
    "    diff_w3 = (-(y2-o_out_2)*o_out_2*(1-o_out_2)*w6-(y1-o_out_1)*o_out_1*(1-o_out_1)*w8)*(1-h_out_2)*h_out_2*x1\n",
    "    diff_w4 = (-(y2-o_out_2)*o_out_2*(1-o_out_2)*w6-(y1-o_out_1)*o_out_1*(1-o_out_1)*w8)*(1-h_out_2)*h_out_2*x2\n",
    "    # print('diff_w5 = %f, diff_w6 = %f, diff_w7 = %f, diff_w8= %f'%(diff_w5, diff_w6, diff_w7, diff_w8))\n",
    "    # print('diff_w1 = %f, diff_w2 = %f, diff_w3 =%f, diff_w4 = %f'%(diff_w1, diff_w2, diff_w3, diff_w4))\n",
    "    #diff_w为w对代价函数的偏导数\n",
    " \n",
    "    theta = 0.5\n",
    "    # 这个就是学习率\n",
    "    update_w5 = w5-theta*diff_w5\n",
    "    update_w6 = w6-theta*diff_w6\n",
    "    update_w7 = w7-theta*diff_w7\n",
    "    update_w8 = w8-theta*diff_w8\n",
    "    update_w1 = w1-theta*diff_w1\n",
    "    update_w2 = w2-theta*diff_w2\n",
    "    update_w3 = w3-theta*diff_w3\n",
    "    update_w4 = w4-theta*diff_w4\n",
    " \n",
    "    # print('update_w5 = %f, update_w6 = %f, update_w7 =%f, update_w8 = %f'%(update_w5,update_w6,update_w7,update_w8))\n",
    "    # print('update_w1 = %f, update_w2 = %f, update_w3 =%f, update_w4 = %f'%(update_w1,update_w2,update_w3,update_w4))\n",
    "    w5 = update_w5\n",
    "    w6 = update_w6\n",
    "    w7 = update_w7\n",
    "    w8 = update_w8\n",
    "    w1 = update_w1\n",
    "    w2 = update_w2\n",
    "    w3 = update_w3\n",
    "    w4 = update_w4\n",
    "print(lost)\n",
    "print(o_out_1, o_out_2)"
   ]
  },
  {
   "cell_type": "code",
   "execution_count": null,
   "metadata": {},
   "outputs": [],
   "source": []
  }
 ],
 "metadata": {
  "kernelspec": {
   "display_name": "Python 2",
   "language": "python",
   "name": "python2"
  },
  "language_info": {
   "codemirror_mode": {
    "name": "ipython",
    "version": 2
   },
   "file_extension": ".py",
   "mimetype": "text/x-python",
   "name": "python",
   "nbconvert_exporter": "python",
   "pygments_lexer": "ipython2",
   "version": "2.7.6"
  }
 },
 "nbformat": 4,
 "nbformat_minor": 0
}
