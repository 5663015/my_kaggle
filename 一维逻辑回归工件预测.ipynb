{
 "cells": [
  {
   "cell_type": "code",
   "execution_count": 1,
   "metadata": {},
   "outputs": [],
   "source": [
    "import numpy as np\n",
    "import pandas as pd\n",
    "from sklearn.linear_model import LogisticRegression\n",
    "# 这个的结果是group各个部分的比值，不是要概率"
   ]
  },
  {
   "cell_type": "code",
   "execution_count": 2,
   "metadata": {},
   "outputs": [],
   "source": [
    "train = pd.read_csv('first_round_training_data.csv')"
   ]
  },
  {
   "cell_type": "code",
   "execution_count": 3,
   "metadata": {},
   "outputs": [],
   "source": [
    "# train.shape"
   ]
  },
  {
   "cell_type": "code",
   "execution_count": 4,
   "metadata": {},
   "outputs": [],
   "source": [
    "# train.head()"
   ]
  },
  {
   "cell_type": "code",
   "execution_count": 5,
   "metadata": {},
   "outputs": [],
   "source": [
    "# train.isnull().sum()\n",
    "# 没有缺失值"
   ]
  },
  {
   "cell_type": "code",
   "execution_count": 6,
   "metadata": {},
   "outputs": [],
   "source": [
    "dit = {'Excellent':0,'Good':1,'Pass':2,'Fail':3}\n",
    "train['label'] = train['Quality_label'].map(dit)\n",
    "# 将特征转换成数字"
   ]
  },
  {
   "cell_type": "code",
   "execution_count": 7,
   "metadata": {},
   "outputs": [],
   "source": [
    "# train.head()"
   ]
  },
  {
   "cell_type": "code",
   "execution_count": 8,
   "metadata": {},
   "outputs": [],
   "source": [
    "# train.shape"
   ]
  },
  {
   "cell_type": "code",
   "execution_count": 9,
   "metadata": {},
   "outputs": [
    {
     "data": {
      "text/plain": [
       "<bound method LogisticRegression.fit of LogisticRegression(C=1.0, class_weight=None, dual=False, fit_intercept=True,\n",
       "                   intercept_scaling=1, l1_ratio=None, max_iter=100,\n",
       "                   multi_class='warn', n_jobs=None, penalty='l2',\n",
       "                   random_state=None, solver='warn', tol=0.0001, verbose=0,\n",
       "                   warm_start=False)>"
      ]
     },
     "execution_count": 9,
     "metadata": {},
     "output_type": "execute_result"
    }
   ],
   "source": [
    "LogisticRegression().fit"
   ]
  },
  {
   "cell_type": "code",
   "execution_count": 10,
   "metadata": {},
   "outputs": [],
   "source": [
    "test = pd.read_csv('first_round_testing_data.csv')\n",
    "example = pd.read_csv('submit_example.csv')"
   ]
  },
  {
   "cell_type": "code",
   "execution_count": 11,
   "metadata": {},
   "outputs": [],
   "source": [
    "train=train.drop(labels=['Attribute1','Attribute2','Attribute3','Attribute4','Attribute5','Attribute6','Attribute7',\n",
    "                       'Attribute8','Attribute9','Attribute10','Quality_label', ],axis=1)"
   ]
  },
  {
   "cell_type": "code",
   "execution_count": 12,
   "metadata": {},
   "outputs": [],
   "source": [
    "# train.shape"
   ]
  },
  {
   "cell_type": "code",
   "execution_count": 13,
   "metadata": {},
   "outputs": [],
   "source": [
    "# train.head()"
   ]
  },
  {
   "cell_type": "code",
   "execution_count": 14,
   "metadata": {},
   "outputs": [
    {
     "data": {
      "text/plain": [
       "2    2417\n",
       "1    1584\n",
       "0    1107\n",
       "3     892\n",
       "Name: label, dtype: int64"
      ]
     },
     "execution_count": 14,
     "metadata": {},
     "output_type": "execute_result"
    }
   ],
   "source": [
    "train['label'].value_counts()"
   ]
  },
  {
   "cell_type": "code",
   "execution_count": 15,
   "metadata": {},
   "outputs": [
    {
     "data": {
      "text/plain": [
       "Parameter1        0.001660\n",
       "Parameter2        0.591013\n",
       "Parameter3      147.608373\n",
       "Parameter4       38.186345\n",
       "Parameter5        0.000421\n",
       "Parameter6        0.000612\n",
       "Parameter7     2286.523413\n",
       "Parameter8        0.035407\n",
       "Parameter9        0.593081\n",
       "Parameter10       1.010385\n",
       "label             2.000000\n",
       "Name: 0, dtype: float64"
      ]
     },
     "execution_count": 15,
     "metadata": {},
     "output_type": "execute_result"
    }
   ],
   "source": [
    "train.loc[0]\n",
    "# 这是第一行的数据"
   ]
  },
  {
   "cell_type": "code",
   "execution_count": 16,
   "metadata": {},
   "outputs": [
    {
     "data": {
      "text/plain": [
       "0           0.001660\n",
       "1           1.601749\n",
       "2           0.098039\n",
       "3          18.181860\n",
       "4           0.012085\n",
       "5           0.004062\n",
       "6           0.438449\n",
       "7       48159.917401\n",
       "8           1.456601\n",
       "9           0.000109\n",
       "10         12.460323\n",
       "11          0.778409\n",
       "12          0.000758\n",
       "13         87.024169\n",
       "14          2.850770\n",
       "15          0.002539\n",
       "16          0.234521\n",
       "17         13.296633\n",
       "18          0.220540\n",
       "19          0.204164\n",
       "20         35.597937\n",
       "21          1.349670\n",
       "22          0.029588\n",
       "23         41.990986\n",
       "24          0.318964\n",
       "25          0.126287\n",
       "26          0.184011\n",
       "27          0.055858\n",
       "28          0.004220\n",
       "29         12.626264\n",
       "            ...     \n",
       "5970        4.374019\n",
       "5971        0.557106\n",
       "5972        0.229954\n",
       "5973        0.056129\n",
       "5974        0.182309\n",
       "5975        3.305046\n",
       "5976        8.573693\n",
       "5977        0.462402\n",
       "5978      525.727128\n",
       "5979        1.344782\n",
       "5980     4669.546823\n",
       "5981        0.085756\n",
       "5982     2095.730890\n",
       "5983       22.905862\n",
       "5984        0.069598\n",
       "5985        0.018934\n",
       "5986        0.003466\n",
       "5987        0.156928\n",
       "5988        0.931667\n",
       "5989        0.052232\n",
       "5990        1.708384\n",
       "5991        0.015001\n",
       "5992        0.040214\n",
       "5993       12.543544\n",
       "5994        6.826441\n",
       "5995      317.161934\n",
       "5996        7.351795\n",
       "5997        0.400401\n",
       "5998        0.133547\n",
       "5999       39.168075\n",
       "Name: Parameter1, Length: 6000, dtype: float64"
      ]
     },
     "execution_count": 16,
     "metadata": {},
     "output_type": "execute_result"
    }
   ],
   "source": [
    "train.iloc[:, 0]\n",
    "# 这是第一列"
   ]
  },
  {
   "cell_type": "code",
   "execution_count": 17,
   "metadata": {},
   "outputs": [],
   "source": [
    "from sklearn.preprocessing import StandardScaler"
   ]
  },
  {
   "cell_type": "code",
   "execution_count": 18,
   "metadata": {},
   "outputs": [],
   "source": [
    "x_train=train.drop(labels='label',axis=1)\n",
    "y_train=train['label']"
   ]
  },
  {
   "cell_type": "code",
   "execution_count": null,
   "metadata": {},
   "outputs": [],
   "source": []
  },
  {
   "cell_type": "code",
   "execution_count": 19,
   "metadata": {},
   "outputs": [],
   "source": [
    "# test.iloc[:, 1:]"
   ]
  },
  {
   "cell_type": "code",
   "execution_count": 20,
   "metadata": {},
   "outputs": [
    {
     "name": "stderr",
     "output_type": "stream",
     "text": [
      "D:\\ai\\lib\\site-packages\\sklearn\\linear_model\\logistic.py:432: FutureWarning: Default solver will be changed to 'lbfgs' in 0.22. Specify a solver to silence this warning.\n",
      "  FutureWarning)\n",
      "D:\\ai\\lib\\site-packages\\sklearn\\linear_model\\logistic.py:469: FutureWarning: Default multi_class will be changed to 'auto' in 0.22. Specify the multi_class option to silence this warning.\n",
      "  \"this warning.\", FutureWarning)\n"
     ]
    },
    {
     "data": {
      "text/plain": [
       "LogisticRegression(C=1.0, class_weight=None, dual=False, fit_intercept=True,\n",
       "                   intercept_scaling=1, l1_ratio=None, max_iter=100,\n",
       "                   multi_class='warn', n_jobs=None, penalty='l2',\n",
       "                   random_state=None, solver='warn', tol=0.0001, verbose=0,\n",
       "                   warm_start=False)"
      ]
     },
     "execution_count": 20,
     "metadata": {},
     "output_type": "execute_result"
    }
   ],
   "source": [
    "S=StandardScaler()\n",
    "S.fit(x_train)\n",
    "x_train_stand=S.transform(x_train)\n",
    "Log=LogisticRegression()\n",
    "Log.fit(x_train_stand,y_train)  #训练模型"
   ]
  },
  {
   "cell_type": "code",
   "execution_count": 21,
   "metadata": {},
   "outputs": [],
   "source": [
    "x_test_stand=S.transform(test.drop(labels='Group',axis=1))"
   ]
  },
  {
   "cell_type": "code",
   "execution_count": 22,
   "metadata": {},
   "outputs": [],
   "source": [
    "prediction=Log.predict(x_test_stand)"
   ]
  },
  {
   "cell_type": "code",
   "execution_count": 23,
   "metadata": {},
   "outputs": [],
   "source": [
    "# prediction"
   ]
  },
  {
   "cell_type": "code",
   "execution_count": 24,
   "metadata": {},
   "outputs": [],
   "source": [
    "test['label'] = prediction"
   ]
  },
  {
   "cell_type": "code",
   "execution_count": 25,
   "metadata": {},
   "outputs": [],
   "source": [
    "result = pd.DataFrame({'Group':example.Group})"
   ]
  },
  {
   "cell_type": "code",
   "execution_count": 26,
   "metadata": {},
   "outputs": [],
   "source": [
    "# all_counts = test.loc[test['Group'] ==1]['label'].value_counts()\n",
    "# all_counts[2]/50"
   ]
  },
  {
   "cell_type": "code",
   "execution_count": 27,
   "metadata": {},
   "outputs": [],
   "source": [
    "for group_num in range(120):\n",
    "#     print(group_num)\n",
    "    all_counts = test.loc[test['Group'] ==group_num]['label'].value_counts()\n",
    "#     print(all_counts)\n",
    "    try:\n",
    "        result.loc[result['Group'] ==group_num,'Excellent ratio'] = all_counts[0]/50\n",
    "    except Exception as e:\n",
    "        result.loc[result['Group'] ==group_num,'Excellent ratio'] = 0\n",
    "    try:\n",
    "        result.loc[result['Group'] ==group_num,'Good ratio'] = all_counts[1]/50\n",
    "    except Exception as e:\n",
    "        result.loc[result['Group'] ==group_num,'Good ratio'] = 0\n",
    "    try:\n",
    "        result.loc[result['Group'] ==group_num,'Pass ratio'] = all_counts[2]/50\n",
    "    except Exception as e:\n",
    "        result.loc[result['Group'] ==group_num,'Pass ratio'] = 0\n",
    "    try:\n",
    "        result.loc[result['Group'] ==group_num,'Fail ratio'] = all_counts[3]/50\n",
    "    except Exception as e:\n",
    "        result.loc[result['Group'] ==group_num,'Fail ratio'] = 0"
   ]
  },
  {
   "cell_type": "code",
   "execution_count": 28,
   "metadata": {},
   "outputs": [],
   "source": [
    "# result.head()"
   ]
  },
  {
   "cell_type": "code",
   "execution_count": 29,
   "metadata": {},
   "outputs": [],
   "source": [
    "# result.shape"
   ]
  },
  {
   "cell_type": "code",
   "execution_count": 30,
   "metadata": {},
   "outputs": [],
   "source": [
    "result.to_csv(r'result.csv',index=False)"
   ]
  },
  {
   "cell_type": "code",
   "execution_count": null,
   "metadata": {},
   "outputs": [],
   "source": []
  },
  {
   "cell_type": "code",
   "execution_count": null,
   "metadata": {},
   "outputs": [],
   "source": []
  },
  {
   "cell_type": "code",
   "execution_count": null,
   "metadata": {},
   "outputs": [],
   "source": []
  }
 ],
 "metadata": {
  "kernelspec": {
   "display_name": "Python 3",
   "language": "python",
   "name": "python3"
  },
  "language_info": {
   "codemirror_mode": {
    "name": "ipython",
    "version": 3
   },
   "file_extension": ".py",
   "mimetype": "text/x-python",
   "name": "python",
   "nbconvert_exporter": "python",
   "pygments_lexer": "ipython3",
   "version": "3.7.3"
  }
 },
 "nbformat": 4,
 "nbformat_minor": 1
}
