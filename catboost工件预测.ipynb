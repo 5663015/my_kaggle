{
 "cells": [
  {
   "cell_type": "code",
   "execution_count": null,
   "metadata": {
    "collapsed": true
   },
   "outputs": [],
   "source": [
    "import catboost as cb\n",
    "import pandas as pd\n",
    "from sklearn.metrics import mean_squared_error\n",
    "from sklearn.model_selection import train_test_split"
   ]
  },
  {
   "cell_type": "code",
   "execution_count": null,
   "metadata": {},
   "outputs": [],
   "source": [
    "df_train = pd.read_csv('first_round_training_data.csv')\n",
    "df_test = pd.read_csv('first_round_testing_data.csv')\n",
    "dit = {'Excellent':0,'Good':1,'Pass':2,'Fail':3}\n",
    "df_train['label'] = df_train['Quality_label'].map(dit)\n",
    "# 将特征转换成数字\n",
    "df_train=df_train.drop(labels=['Attribute1','Attribute2','Attribute3','Attribute4','Attribute5','Attribute6','Attribute7',\n",
    "                       'Attribute8','Attribute9','Attribute10','Quality_label', ],axis=1)"
   ]
  },
  {
   "cell_type": "code",
   "execution_count": null,
   "metadata": {},
   "outputs": [],
   "source": [
    "data=df_train.drop(labels='label',axis=1)\n",
    "target = df_train['label']\n",
    "X_train,X_test,y_train,y_test =train_test_split(data,target,test_size=0.2)"
   ]
  },
  {
   "cell_type": "code",
   "execution_count": null,
   "metadata": {},
   "outputs": [],
   "source": [
    "model = cb.CatBoostClassifier(iterations=30000,depth = 8,\n",
    "\n",
    "                               learning_rate = 0.0009,\n",
    "\n",
    "                               custom_loss='AUC',\n",
    "\n",
    "                               eval_metric='AUC',\n",
    "\n",
    "                               bagging_temperature=0.83,\n",
    "\n",
    "                               od_type='Iter',\n",
    "\n",
    "                               rsm = 0.78,\n",
    "\n",
    "                               od_wait=2000,\n",
    "\n",
    "                               metric_period = 400,\n",
    "\n",
    "                               l2_leaf_reg = 5,\n",
    "\n",
    "                               thread_count = 20,\n",
    "\n",
    "                               random_seed = 967,loss_function = 'MultiClass'\n",
    "\n",
    "                              )\n",
    "\n",
    "model.fit(X_train, y_train, eval_set=(X_test, y_test),use_best_model=True)"
   ]
  },
  {
   "cell_type": "code",
   "execution_count": null,
   "metadata": {},
   "outputs": [],
   "source": [
    "preds_class = model.predict(df_test.drop(labels='Group',axis=1))"
   ]
  },
  {
   "cell_type": "code",
   "execution_count": null,
   "metadata": {},
   "outputs": [],
   "source": [
    "example = pd.read_csv('datalab/37693/submit_example.csv')\n",
    "result = pd.DataFrame({'Group':example.Group})"
   ]
  },
  {
   "cell_type": "code",
   "execution_count": null,
   "metadata": {},
   "outputs": [],
   "source": [
    "df_test['label'] =preds_class"
   ]
  },
  {
   "cell_type": "code",
   "execution_count": null,
   "metadata": {},
   "outputs": [],
   "source": [
    "for group_num in range(120):\n",
    "#     print(group_num)\n",
    "    all_counts = df_test.loc[df_test['Group'] ==group_num]['label'].value_counts()\n",
    "#     print(all_counts)\n",
    "    try:\n",
    "        result.loc[result['Group'] ==group_num,'Excellent ratio'] = all_counts[0]/50\n",
    "    except Exception as e:\n",
    "        result.loc[result['Group'] ==group_num,'Excellent ratio'] = 0\n",
    "    try:\n",
    "        result.loc[result['Group'] ==group_num,'Good ratio'] = all_counts[1]/50\n",
    "    except Exception as e:\n",
    "        result.loc[result['Group'] ==group_num,'Good ratio'] = 0\n",
    "    try:\n",
    "        result.loc[result['Group'] ==group_num,'Pass ratio'] = all_counts[2]/50\n",
    "    except Exception as e:\n",
    "        result.loc[result['Group'] ==group_num,'Pass ratio'] = 0\n",
    "    try:\n",
    "        result.loc[result['Group'] ==group_num,'Fail ratio'] = all_counts[3]/50\n",
    "    except Exception as e:\n",
    "        result.loc[result['Group'] ==group_num,'Fail ratio'] = 0"
   ]
  },
  {
   "cell_type": "code",
   "execution_count": null,
   "metadata": {},
   "outputs": [],
   "source": [
    "result.to_csv(r'/home/tianchi/myspace/result.csv',index=False)"
   ]
  }
 ],
 "metadata": {
  "kernelspec": {
   "display_name": "Python 2",
   "language": "python",
   "name": "python2"
  },
  "language_info": {
   "codemirror_mode": {
    "name": "ipython",
    "version": 2
   },
   "file_extension": ".py",
   "mimetype": "text/x-python",
   "name": "python",
   "nbconvert_exporter": "python",
   "pygments_lexer": "ipython2",
   "version": "2.7.6"
  }
 },
 "nbformat": 4,
 "nbformat_minor": 0
}
