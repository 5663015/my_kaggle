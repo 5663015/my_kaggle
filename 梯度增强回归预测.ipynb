{
 "cells": [
  {
   "cell_type": "code",
   "execution_count": 7,
   "metadata": {
    "collapsed": true
   },
   "outputs": [],
   "source": [
    "import pandas as pd\n",
    "import numpy as np\n",
    "# from sklearn.model_selection import GridSearchCV\n",
    "# 用这个来网格状自动搜只能是分类才行\n",
    "from sklearn.ensemble.gradient_boosting import GradientBoostingRegressor"
   ]
  },
  {
   "cell_type": "code",
   "execution_count": 8,
   "metadata": {},
   "outputs": [],
   "source": [
    "height = pd.read_csv('height_train.csv')\n",
    "test = pd.read_csv('height_test.csv')"
   ]
  },
  {
   "cell_type": "code",
   "execution_count": 22,
   "metadata": {},
   "outputs": [],
   "source": [
    "height['gender_father'] = height['father_height']*height['boy_dummy']\n",
    "height['gender_mother'] = height['mother_height']*height['boy_dummy']\n",
    "test['gender_father'] = test['father_height']*test['boy_dummy']\n",
    "test['gender_mother'] = test['mother_height']*test['boy_dummy']"
   ]
  },
  {
   "cell_type": "code",
   "execution_count": 23,
   "metadata": {},
   "outputs": [
    {
     "data": {
      "text/plain": [
       "GradientBoostingRegressor(alpha=0.9, criterion='friedman_mse', init=None,\n                          learning_rate=0.1, loss='ls', max_depth=3,\n                          max_features=None, max_leaf_nodes=None,\n                          min_impurity_decrease=0.0, min_impurity_split=None,\n                          min_samples_leaf=1, min_samples_split=2,\n                          min_weight_fraction_leaf=0.0, n_estimators=100,\n                          n_iter_no_change=None, presort='auto',\n                          random_state=None, subsample=1.0, tol=0.0001,\n                          validation_fraction=0.1, verbose=0, warm_start=False)"
      ]
     },
     "execution_count": 23,
     "metadata": {},
     "output_type": "execute_result"
    }
   ],
   "source": [
    "model = GradientBoostingRegressor()\n",
    "# 开始了调参游戏\n",
    "X=height.loc[:,['father_height','mother_height','boy_dummy', 'gender_father','gender_mother']]\n",
    "y=height.child_height\n",
    "model.fit(X, y)"
   ]
  },
  {
   "cell_type": "code",
   "execution_count": 24,
   "metadata": {},
   "outputs": [],
   "source": [
    "test['prediction'] = model.predict(test.loc[:,['father_height','mother_height','boy_dummy', 'gender_father','gender_mother']])"
   ]
  },
  {
   "cell_type": "code",
   "execution_count": 25,
   "metadata": {},
   "outputs": [],
   "source": [
    "dataframe = pd.DataFrame({'id':test['id'],'prediction':test['prediction']})\n",
    "dataframe.to_csv(\"result.csv\",index=False,sep=',')\n",
    "# index表示是否显示行名，默认为true\n"
   ]
  },
  {
   "cell_type": "code",
   "execution_count": null,
   "metadata": {},
   "outputs": [],
   "source": [
    "# 这个模型来预测身高还不如线性回归，还是换模型吧"
   ]
  }
 ],
 "metadata": {
  "kernelspec": {
   "display_name": "Python 2",
   "language": "python",
   "name": "python2"
  },
  "language_info": {
   "codemirror_mode": {
    "name": "ipython",
    "version": 2
   },
   "file_extension": ".py",
   "mimetype": "text/x-python",
   "name": "python",
   "nbconvert_exporter": "python",
   "pygments_lexer": "ipython2",
   "version": "2.7.6"
  }
 },
 "nbformat": 4,
 "nbformat_minor": 0
}
