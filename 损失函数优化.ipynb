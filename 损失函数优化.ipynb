{
 "cells": [
  {
   "cell_type": "code",
   "execution_count": 1,
   "metadata": {
    "collapsed": true
   },
   "outputs": [],
   "source": [
    "# 损失函数可以看作是误差部分加上正则化部分\n",
    "# 预测的时候可以往多了预测，也可以往少了预测\n",
    "# 看项目需求，卖东西毕竟都是希望多卖点，反正剩下的下个月再卖就是了\n",
    "# 即使是有效期短的，只要利润大，多卖点也行\n",
    "# 所以这时候往多了预测，后面也可以看出来两个权重都是大于一的，而不是正常的等于一"
   ]
  },
  {
   "cell_type": "code",
   "execution_count": null,
   "metadata": {},
   "outputs": [],
   "source": [
    "# 这样子我们可以把预测值和实际值之间的损失乘上（利润损失）\n",
    "# 这样子把利润也算进损失函数里面\n",
    "# 两种情况，要么损失成本，要么损失利润\n",
    "# 用tf.greater"
   ]
  }
 ],
 "metadata": {
  "kernelspec": {
   "display_name": "Python 2",
   "language": "python",
   "name": "python2"
  },
  "language_info": {
   "codemirror_mode": {
    "name": "ipython",
    "version": 2
   },
   "file_extension": ".py",
   "mimetype": "text/x-python",
   "name": "python",
   "nbconvert_exporter": "python",
   "pygments_lexer": "ipython2",
   "version": "2.7.6"
  }
 },
 "nbformat": 4,
 "nbformat_minor": 0
}
