{
 "cells": [
  {
   "cell_type": "code",
   "execution_count": 1,
   "metadata": {
    "collapsed": true
   },
   "outputs": [],
   "source": [
    "# 线性回归的直线就不说了\n",
    "# 首先是要求直线和样本点的误差\n",
    "# 也就是损失函数\n",
    "import numpy as np\n",
    "# 这个其实就是两点之间的距离\n",
    "# theta就是kx+b中k和b形成的列矩阵\n",
    "def compute_cost(X, y, theta):\n",
    "    Hx = np.dot(X, theta)\n",
    "    return np.dot((Hx - y).transpose(), Hx - y) / (2 * X.shape[0])"
   ]
  },
  {
   "cell_type": "code",
   "execution_count": 2,
   "metadata": {},
   "outputs": [],
   "source": [
    "# 要想让损失函数降到最低，那么就用梯度下降来\n",
    "# 最小二乘法可以直接算出参数，但是只能线性，如果非线性的话用梯度下降\n",
    "# 梯度下降是通过迭代来逐步更新进行的参数优化方法"
   ]
  },
  {
   "cell_type": "code",
   "execution_count": 3,
   "metadata": {},
   "outputs": [],
   "source": [
    "def gradient_descent(X, y, theta, learning_rate, iteration):\n",
    "\n",
    "    cost_his = np.zeros((iteration, 1))\n",
    "\n",
    "    cost_his[0] = compute_cost(X, y, theta)\n",
    "\n",
    "    for i in range(1,iteration):\n",
    "\n",
    "        Hx = np.dot(X, theta)\n",
    "        # 矩阵积运算，其实就是矩阵相乘\n",
    "        theta = theta - (learning_rate /\n",
    "                         X.shape[0]) * (np.dot((Hx - y).transpose(), X)).transpose()\n",
    "        # 后面这个减去的都是梯度的方向\n",
    "        cost_his[i] = compute_cost(X, y, theta)\n",
    "\n",
    "    return theta, cost_his"
   ]
  },
  {
   "cell_type": "code",
   "execution_count": 4,
   "metadata": {},
   "outputs": [],
   "source": [
    "# 特征标准化，主要是针对有的特征数据特别大，不标准化的话梯度下降时候就效果不好\n",
    "def feature_normalize(X):\n",
    "\n",
    "    mean = np.mean(X, axis=0, keepdims=True)\n",
    "\n",
    "    std = np.std(X, axis=0, keepdims=True)\n",
    "    # std就是标准差，总体各单位标准值与其平均数离差平方的算术平均数的平方根\n",
    "\n",
    "    X_norm = (X - mean) / std\n",
    "\n",
    "    return X_norm"
   ]
  },
  {
   "cell_type": "code",
   "execution_count": null,
   "metadata": {},
   "outputs": [],
   "source": [
    "# 线性回归受噪声影响比较大\n",
    "# 深度学习有无穷多的极小值点"
   ]
  }
 ],
 "metadata": {
  "kernelspec": {
   "display_name": "Python 2",
   "language": "python",
   "name": "python2"
  },
  "language_info": {
   "codemirror_mode": {
    "name": "ipython",
    "version": 2
   },
   "file_extension": ".py",
   "mimetype": "text/x-python",
   "name": "python",
   "nbconvert_exporter": "python",
   "pygments_lexer": "ipython2",
   "version": "2.7.6"
  }
 },
 "nbformat": 4,
 "nbformat_minor": 0
}
